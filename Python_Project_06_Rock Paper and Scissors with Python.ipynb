{
 "cells": [
  {
   "cell_type": "markdown",
   "id": "76132461",
   "metadata": {},
   "source": [
    "# Rock Paper and Scissors with Python"
   ]
  },
  {
   "cell_type": "markdown",
   "id": "8414b701",
   "metadata": {},
   "source": [
    "To create the Rock, Paper and Scissors game with Python, we need to take the user’s choice and then we need to compare it with the computer choice which is taken using the random module in Python from a list of choices"
   ]
  },
  {
   "cell_type": "code",
   "execution_count": 4,
   "id": "53ce36a4",
   "metadata": {},
   "outputs": [
    {
     "name": "stdout",
     "output_type": "stream",
     "text": [
      "Enter your a choicepaper\n",
      "paper\n",
      "rock\n",
      "Programmer wins!\n"
     ]
    }
   ],
   "source": [
    "# programm to paper,rock,scissor\n",
    "import random\n",
    "def get_choice():\n",
    "    options=['paper','rock','scissor']\n",
    "    Programmer_choice=input('Enter your a choice')\n",
    "    Computer_choice=random.choice(options)\n",
    "    print(Programmer_choice)\n",
    "    print(Computer_choice)\n",
    "    return (Programmer_choice,Computer_choice)\n",
    "def get_check(programmer,computer):\n",
    "    if programmer==computer:\n",
    "        print('There will be Tie')\n",
    "    elif (programmer == 'rock' and computer == 'scissor') or \\\n",
    "         (programmer == 'paper' and computer == 'rock') or \\\n",
    "         (programmer == 'scissor' and computer == 'paper'):\n",
    "        print('Programmer wins!')\n",
    "    else:\n",
    "        print('Computer wins!')\n",
    "\n",
    "choice=get_choice()\n",
    "result=get_check(*choice)\n"
   ]
  },
  {
   "cell_type": "markdown",
   "id": "defa5d43",
   "metadata": {},
   "source": [
    "The *choice syntax is used to unpack the tuple returned by get_choice so that its elements are passed as separate arguments to the get_check function. This should resolve the TypeError."
   ]
  },
  {
   "cell_type": "code",
   "execution_count": null,
   "id": "1354b05e",
   "metadata": {},
   "outputs": [],
   "source": []
  }
 ],
 "metadata": {
  "kernelspec": {
   "display_name": "Python 3 (ipykernel)",
   "language": "python",
   "name": "python3"
  },
  "language_info": {
   "codemirror_mode": {
    "name": "ipython",
    "version": 3
   },
   "file_extension": ".py",
   "mimetype": "text/x-python",
   "name": "python",
   "nbconvert_exporter": "python",
   "pygments_lexer": "ipython3",
   "version": "3.9.13"
  }
 },
 "nbformat": 4,
 "nbformat_minor": 5
}
