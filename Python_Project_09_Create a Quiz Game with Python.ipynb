{
 "cells": [
  {
   "cell_type": "markdown",
   "id": "a0c0a264",
   "metadata": {},
   "source": [
    "# Create a Quiz Game with Python"
   ]
  },
  {
   "cell_type": "markdown",
   "id": "6703423b",
   "metadata": {},
   "source": [
    "The Quiz game asks the player questions about animals. They have three chances to answer each question you don’t want to take the quiz too difficult. Each correct answer will score a point. At the end of the game, the program will reveal the player’s final score."
   ]
  },
  {
   "cell_type": "markdown",
   "id": "276dfe14",
   "metadata": {},
   "source": [
    "This quiz game uses a function; a block of code with a name that performs a specific task. A function allows you to use the same code several times, without having to type everything each time. Python has a lot of built-in functions, but it also allows you to create your functions.\n",
    "\n",
    "The program should continue to check if there are any questions to ask and if the player has exhausted all his chances. The score is stored in a variable during the game. Once all the questions have been answered, the game ends."
   ]
  },
  {
   "cell_type": "code",
   "execution_count": 1,
   "id": "c2c670c8",
   "metadata": {},
   "outputs": [
    {
     "name": "stdout",
     "output_type": "stream",
     "text": [
      "Guess the Animal\n",
      "Which bear lives at the North Pole? northian\n",
      "Sorry Wrong Answer, try againhub\n",
      "Sorry Wrong Answer, try againjuery\n",
      "The Correct answer is  polar bear\n",
      "Which is the fastest land animal? cheetah\n",
      "Correct Answer\n",
      "Which is the larget animal? blue wheel\n",
      "Sorry Wrong Answer, try againblue whale\n",
      "Correct Answer\n",
      "Your Score is 2\n"
     ]
    }
   ],
   "source": [
    "def check_guess(guess, answer):\n",
    "    global score\n",
    "    still_guessing = True\n",
    "    attempt = 0\n",
    "    while still_guessing and attempt < 3:\n",
    "        if guess.lower() == answer.lower():\n",
    "            print(\"Correct Answer\")\n",
    "            score = score + 1\n",
    "            still_guessing = False\n",
    "        else:\n",
    "            if attempt < 2:\n",
    "                guess = input(\"Sorry Wrong Answer, try again\")\n",
    "            attempt = attempt + 1\n",
    "    if attempt == 3:\n",
    "        print(\"The Correct answer is \",answer )\n",
    "    \n",
    "score = 0\n",
    "print(\"Guess the Animal\")\n",
    "guess1 = input(\"Which bear lives at the North Pole? \")\n",
    "check_guess(guess1, \"polar bear\")\n",
    "guess2 = input(\"Which is the fastest land animal? \")\n",
    "check_guess(guess2, \"Cheetah\")\n",
    "guess3 = input(\"Which is the larget animal? \")\n",
    "check_guess(guess3, \"Blue Whale\")\n",
    "print(\"Your Score is \"+ str(score))"
   ]
  },
  {
   "cell_type": "code",
   "execution_count": null,
   "id": "b9d51b02",
   "metadata": {},
   "outputs": [],
   "source": []
  }
 ],
 "metadata": {
  "kernelspec": {
   "display_name": "Python 3 (ipykernel)",
   "language": "python",
   "name": "python3"
  },
  "language_info": {
   "codemirror_mode": {
    "name": "ipython",
    "version": 3
   },
   "file_extension": ".py",
   "mimetype": "text/x-python",
   "name": "python",
   "nbconvert_exporter": "python",
   "pygments_lexer": "ipython3",
   "version": "3.9.13"
  }
 },
 "nbformat": 4,
 "nbformat_minor": 5
}
