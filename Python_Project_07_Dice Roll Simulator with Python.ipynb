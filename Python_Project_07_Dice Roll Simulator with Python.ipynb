{
 "cells": [
  {
   "cell_type": "markdown",
   "id": "d3435778",
   "metadata": {},
   "source": [
    "# Dice Roll Simulator with Python"
   ]
  },
  {
   "cell_type": "markdown",
   "id": "197bd5d6",
   "metadata": {},
   "source": [
    "To simulate a dice roll with Python, I’ll be using the random module in Python. The random module can be imported easily into your code as it is preinstalled in the Python programming language"
   ]
  },
  {
   "cell_type": "markdown",
   "id": "4a36542f",
   "metadata": {},
   "source": [
    "The smallest value of a dice roll is 1 and the largest is 6, this logic can be used to simulate a dice roll. This gives us the start and end values to use in our random.randint() function"
   ]
  },
  {
   "cell_type": "code",
   "execution_count": 1,
   "id": "75d3fe3e",
   "metadata": {},
   "outputs": [],
   "source": [
    "import random\n",
    "max_val=6\n",
    "min_val=1"
   ]
  },
  {
   "cell_type": "code",
   "execution_count": 8,
   "id": "3a9ed2ac",
   "metadata": {},
   "outputs": [],
   "source": [
    "roll_again='Yes'"
   ]
  },
  {
   "cell_type": "code",
   "execution_count": 9,
   "id": "628f40dc",
   "metadata": {},
   "outputs": [
    {
     "name": "stdout",
     "output_type": "stream",
     "text": [
      "Rolling The Dices...\n",
      "The Values are :\n",
      "2\n",
      "2\n",
      "Roll the Dices Again?Y\n",
      "Rolling The Dices...\n",
      "The Values are :\n",
      "4\n",
      "2\n",
      "Roll the Dices Again?Y\n",
      "Rolling The Dices...\n",
      "The Values are :\n",
      "1\n",
      "2\n",
      "Roll the Dices Again?n\n"
     ]
    }
   ],
   "source": [
    "while roll_again == \"Yes\" or roll_again == \"Y\":\n",
    "    print(\"Rolling The Dices...\")\n",
    "    print(\"The Values are :\")\n",
    "    print(random.randint(min_val, max_val))\n",
    "    print(random.randint(min_val, max_val))\n",
    "    roll_again = input(\"Roll the Dices Again?\") "
   ]
  },
  {
   "cell_type": "code",
   "execution_count": null,
   "id": "1b9a83f8",
   "metadata": {},
   "outputs": [],
   "source": []
  },
  {
   "cell_type": "code",
   "execution_count": null,
   "id": "11281b92",
   "metadata": {},
   "outputs": [],
   "source": []
  }
 ],
 "metadata": {
  "kernelspec": {
   "display_name": "Python 3 (ipykernel)",
   "language": "python",
   "name": "python3"
  },
  "language_info": {
   "codemirror_mode": {
    "name": "ipython",
    "version": 3
   },
   "file_extension": ".py",
   "mimetype": "text/x-python",
   "name": "python",
   "nbconvert_exporter": "python",
   "pygments_lexer": "ipython3",
   "version": "3.9.13"
  }
 },
 "nbformat": 4,
 "nbformat_minor": 5
}
