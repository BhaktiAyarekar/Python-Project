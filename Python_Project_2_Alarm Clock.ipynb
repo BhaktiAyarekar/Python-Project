{
 "cells": [
  {
   "cell_type": "markdown",
   "id": "824ce90e",
   "metadata": {},
   "source": [
    "## Alarm Clock with Python"
   ]
  },
  {
   "cell_type": "markdown",
   "id": "aa1035ad",
   "metadata": {},
   "source": [
    "Create an alarm clock with python ,i will bwe using the datetime module in python to create an alarm colck and the sound library in python to play the alarm sound"
   ]
  },
  {
   "cell_type": "markdown",
   "id": "d5f6c383",
   "metadata": {},
   "source": [
    "The datetime module comes preinstalled in the python programming language so you can easily import it in your program .The playsound library can be easily installed by using pip command-pip install playsound."
   ]
  },
  {
   "cell_type": "code",
   "execution_count": null,
   "id": "2c4c32f4",
   "metadata": {},
   "outputs": [],
   "source": [
    "pip install playsound"
   ]
  },
  {
   "cell_type": "code",
   "execution_count": null,
   "id": "3ba8a8e4",
   "metadata": {},
   "outputs": [],
   "source": [
    "from datetime import datetime\n",
    "from playsound import playsound\n",
    "\n",
    "alarm_time = input('Enter the time of alarm to be set: HH:MM:SS:AM\\PM \\n')\n",
    "alarm_hour= alarm_time[0:2]\n",
    "alarm_minute=alarm_time[3:5]\n",
    "alarm_seconds=alarm_time[6:8]\n",
    "alarm_period = alarm_time[9:11].upper()\n",
    "print('Setting up alarm...')\n",
    "\n",
    "while True:\n",
    "    now=datetime.now()\n",
    "    current_hour=now.strftime(\"%I\")\n",
    "    current_minute=now.strftime(\"%M\")\n",
    "    current_seconds=now.strftime(\"%S\")\n",
    "#     print(current_hour,current_minute,current_seconds)\n",
    "    current_period=now.strftime(\"%p\")\n",
    "#     print(current_period)\n",
    "    if(alarm_period==current_period):\n",
    "        if(alarm_hour==current_hour):\n",
    "            if(alarm_minute==current_minute):\n",
    "                if(alarm_seconds==current_seconds):\n",
    "                    print(\"Wake Up!\")\n",
    "                    playsound('audio.mp3')\n",
    "                    break"
   ]
  },
  {
   "cell_type": "markdown",
   "id": "33d97c59",
   "metadata": {},
   "source": [
    "\n",
    "In the context of the strftime method in Python, the format codes %I, %M, %S, and %p are used to represent different components of a date or time string. Here's what each of them means:\n",
    "\n",
    "%I: Represents the hour in 12-hour clock format (01 to 12).\n",
    "\n",
    "%M: Represents the minute (00 to 59).\n",
    "\n",
    "%S: Represents the second (00 to 59).\n",
    "\n",
    "%p: Represents either AM or PM."
   ]
  },
  {
   "cell_type": "code",
   "execution_count": null,
   "id": "1cb35586",
   "metadata": {},
   "outputs": [],
   "source": []
  }
 ],
 "metadata": {
  "kernelspec": {
   "display_name": "Python 3 (ipykernel)",
   "language": "python",
   "name": "python3"
  },
  "language_info": {
   "codemirror_mode": {
    "name": "ipython",
    "version": 3
   },
   "file_extension": ".py",
   "mimetype": "text/x-python",
   "name": "python",
   "nbconvert_exporter": "python",
   "pygments_lexer": "ipython3",
   "version": "3.11.3"
  }
 },
 "nbformat": 4,
 "nbformat_minor": 5
}
