{
 "cells": [
  {
   "cell_type": "markdown",
   "id": "524b5366",
   "metadata": {},
   "source": [
    "# Story Generator with Python"
   ]
  },
  {
   "cell_type": "markdown",
   "id": "72579623",
   "metadata": {},
   "source": [
    "Our task is to generate a random story every time the user runs the program. I will first store the parts of the stories in different lists, then the Random module can be used to select the random parts of the story stored in different lists"
   ]
  },
  {
   "cell_type": "code",
   "execution_count": 1,
   "id": "6313bf65",
   "metadata": {},
   "outputs": [],
   "source": [
    "import random"
   ]
  },
  {
   "cell_type": "code",
   "execution_count": 2,
   "id": "211a980a",
   "metadata": {},
   "outputs": [],
   "source": [
    "when = ['A few years ago', 'Yesterday', 'Last night', 'A long time ago','On 20th Jan']\n",
    "who = ['a rabbit', 'an elephant', 'a mouse', 'a turtle','a cat']\n",
    "name = ['Ali', 'Miriam','daniel', 'Hoouk', 'Starwalker']\n",
    "residence = ['Barcelona','India', 'Germany', 'Venice', 'England']\n",
    "went = ['cinema', 'university','seminar', 'school', 'laundry']\n",
    "happened = ['made a lot of friends','Eats a burger', 'found a secret key', 'solved a mistery', 'wrote a book']"
   ]
  },
  {
   "cell_type": "code",
   "execution_count": 5,
   "id": "eb6797b8",
   "metadata": {},
   "outputs": [
    {
     "name": "stdout",
     "output_type": "stream",
     "text": [
      "A few years ago, a turtle that lived in Venice, went to the school and made a lot of friends\n"
     ]
    }
   ],
   "source": [
    "print(random.choice(when) + ', ' + random.choice(who) + ' that lived in ' + random.choice(residence) + ', went to the ' + random.choice(went) + ' and ' + random.choice(happened))"
   ]
  },
  {
   "cell_type": "markdown",
   "id": "ab99ce5f",
   "metadata": {},
   "source": [
    "random.choice is a function from the random module in Python that returns a randomly selected element from a non-empty sequence, such as a list or tuple"
   ]
  },
  {
   "cell_type": "code",
   "execution_count": null,
   "id": "ddc36c3c",
   "metadata": {},
   "outputs": [],
   "source": []
  }
 ],
 "metadata": {
  "kernelspec": {
   "display_name": "Python 3 (ipykernel)",
   "language": "python",
   "name": "python3"
  },
  "language_info": {
   "codemirror_mode": {
    "name": "ipython",
    "version": 3
   },
   "file_extension": ".py",
   "mimetype": "text/x-python",
   "name": "python",
   "nbconvert_exporter": "python",
   "pygments_lexer": "ipython3",
   "version": "3.9.13"
  }
 },
 "nbformat": 4,
 "nbformat_minor": 5
}
