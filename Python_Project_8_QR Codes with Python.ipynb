{
 "cells": [
  {
   "cell_type": "markdown",
   "id": "32bca743",
   "metadata": {},
   "source": [
    "# QR Codes with Python"
   ]
  },
  {
   "cell_type": "markdown",
   "id": "1094e8a1",
   "metadata": {},
   "source": [
    "QR is short for Quick Response, and they are named so because they can be read quickly by a cell phone. They are used to take information from transitory media and put it on your cell phone.\n",
    "QR codes are used to encode and decode the data into a machine-readable form. The use of camera phones to read two-dimensional barcodes for various purposes is currently a popular topic in both types of research and practical applications. \n",
    "It contains a grid of black squares on a white background, which can be read by any imaging device such as a camera, and processed to extract the required data from the patterns that are present in the horizontal components of the image."
   ]
  },
  {
   "cell_type": "code",
   "execution_count": 1,
   "id": "fd21eba4",
   "metadata": {},
   "outputs": [
    {
     "name": "stdout",
     "output_type": "stream",
     "text": [
      "Requirement already satisfied: pyqrcode in c:\\users\\bhakt\\anaconda3\\lib\\site-packages (1.2.1)\n",
      "Note: you may need to restart the kernel to use updated packages.\n"
     ]
    }
   ],
   "source": [
    "pip install pyqrcode"
   ]
  },
  {
   "cell_type": "code",
   "execution_count": 2,
   "id": "9d73f044",
   "metadata": {},
   "outputs": [
    {
     "name": "stdout",
     "output_type": "stream",
     "text": [
      "Requirement already satisfied: pypng in c:\\users\\bhakt\\anaconda3\\lib\\site-packages (0.20220715.0)\n",
      "Note: you may need to restart the kernel to use updated packages.\n"
     ]
    }
   ],
   "source": [
    "pip install pypng"
   ]
  },
  {
   "cell_type": "code",
   "execution_count": 3,
   "id": "658afd1d",
   "metadata": {},
   "outputs": [],
   "source": [
    "import pyqrcode\n",
    "from pyqrcode import QRCode"
   ]
  },
  {
   "cell_type": "code",
   "execution_count": 4,
   "id": "018afcf9",
   "metadata": {},
   "outputs": [],
   "source": [
    "s=\"https://www.youtube.com/channel/UCeO9hPCfRzqb2yTuAn713Mg\"\n",
    "\n",
    "url = pyqrcode.create(s)\n",
    "url.svg('myblog.svg',scale=4)"
   ]
  },
  {
   "cell_type": "code",
   "execution_count": 5,
   "id": "2d3faea2",
   "metadata": {},
   "outputs": [
    {
     "name": "stdout",
     "output_type": "stream",
     "text": [
      "QR code generated and saved as 'myblog.png' for https://www.youtube.com/channel/UCeO9hPCfRzqb2yTuAn713Mg\n"
     ]
    }
   ],
   "source": [
    "url.png('myblog.png', scale=4)\n",
    "print(f\"QR code generated and saved as 'myblog.png' for {s}\")"
   ]
  },
  {
   "cell_type": "code",
   "execution_count": 6,
   "id": "ab5c51ea",
   "metadata": {},
   "outputs": [
    {
     "data": {
      "image/png": "[encoded data removed]",
      "text/plain": [
       "<IPython.core.display.Image object>"
      ]
     },
     "metadata": {},
     "output_type": "display_data"
    }
   ],
   "source": [
    "from IPython.display import display, Image\n",
    "display(Image('myblog.png'))"
   ]
  },
  {
   "cell_type": "code",
   "execution_count": null,
   "id": "f89656ae",
   "metadata": {},
   "outputs": [],
   "source": []
  }
 ],
 "metadata": {
  "kernelspec": {
   "display_name": "Python 3 (ipykernel)",
   "language": "python",
   "name": "python3"
  },
  "language_info": {
   "codemirror_mode": {
    "name": "ipython",
    "version": 3
   },
   "file_extension": ".py",
   "mimetype": "text/x-python",
   "name": "python",
   "nbconvert_exporter": "python",
   "pygments_lexer": "ipython3",
   "version": "3.9.13"
  }
 },
 "nbformat": 4,
 "nbformat_minor": 5
}
