{
 "cells": [
  {
   "cell_type": "markdown",
   "id": "f507fc2d",
   "metadata": {},
   "source": [
    "# Convert Fahrenheit to Celsius with Python"
   ]
  },
  {
   "cell_type": "markdown",
   "id": "4527d960",
   "metadata": {},
   "source": [
    "Most countries around the world use the Celsius scale to indicate temperatures, but the United States still uses the Fahrenheit scale."
   ]
  },
  {
   "cell_type": "markdown",
   "id": "98dafeb8",
   "metadata": {},
   "source": [
    "Calculating temperature conversion is simple. We have to convert the temperature because Celsius and Fahrenheit have different starting points; 0 degrees Celsius is 32 degrees Fahrenheit. So to convert Fahrenheit to degrees Celsius, we just need to subtract 32 from the temperature Fahrenheit."
   ]
  },
  {
   "cell_type": "code",
   "execution_count": 7,
   "id": "639d82d0",
   "metadata": {},
   "outputs": [
    {
     "name": "stdout",
     "output_type": "stream",
     "text": [
      "Enter Temp in Fahrenheit :80\n",
      "26.67\n"
     ]
    }
   ],
   "source": [
    "tempinf=input(\"Enter Temp in Fahrenheit :\")\n",
    "def convert(s):\n",
    "    f= float(s)\n",
    "    c=(f-32)*5/9\n",
    "    return round(c,2)\n",
    "print(convert(tempinf))"
   ]
  },
  {
   "cell_type": "markdown",
   "id": "aeb2fa55",
   "metadata": {},
   "source": [
    "In this code, the round() function is used to round the celsius_temp variable to two decimal places before printing it. The result will be displayed with two digits after the decimal point."
   ]
  },
  {
   "cell_type": "code",
   "execution_count": null,
   "id": "74107154",
   "metadata": {},
   "outputs": [],
   "source": []
  }
 ],
 "metadata": {
  "kernelspec": {
   "display_name": "Python 3 (ipykernel)",
   "language": "python",
   "name": "python3"
  },
  "language_info": {
   "codemirror_mode": {
    "name": "ipython",
    "version": 3
   },
   "file_extension": ".py",
   "mimetype": "text/x-python",
   "name": "python",
   "nbconvert_exporter": "python",
   "pygments_lexer": "ipython3",
   "version": "3.9.13"
  }
 },
 "nbformat": 4,
 "nbformat_minor": 5
}
