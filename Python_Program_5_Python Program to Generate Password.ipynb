{
 "cells": [
  {
   "cell_type": "markdown",
   "id": "cb74f264",
   "metadata": {},
   "source": [
    "# Python Program to Generate Password"
   ]
  },
  {
   "cell_type": "markdown",
   "id": "da66ae5d",
   "metadata": {},
   "source": [
    "To write a Python program to create a password, declare a string of numbers + uppercase + lowercase + special characters. Take a random sample of the string of a length given by the user"
   ]
  },
  {
   "cell_type": "code",
   "execution_count": 1,
   "id": "e46d9727",
   "metadata": {},
   "outputs": [],
   "source": [
    "import random"
   ]
  },
  {
   "cell_type": "code",
   "execution_count": 10,
   "id": "ba3ff9de",
   "metadata": {},
   "outputs": [
    {
     "name": "stdout",
     "output_type": "stream",
     "text": [
      "enter the length of password6\n",
      "(n?4ye\n"
     ]
    }
   ],
   "source": [
    "passlen = int(input(\"enter the length of password\"))\n",
    "s=\"abcdefghijklmnopqrstuvwxyz01234567890ABCDEFGHIJKLMNOPQRSTUVWXYZ!@#$%^&*()?\"\n",
    "p = \"\".join(random.sample(s,passlen ))\n",
    "print(p)"
   ]
  },
  {
   "cell_type": "markdown",
   "id": "d8ed3f67",
   "metadata": {},
   "source": [
    ".join() method with the result of random.sample() to generate a random password. The random.sample() function is used to get unique elements from a sequence, but it returns a list. To join the elements into a string, you can use the .join() method."
   ]
  },
  {
   "cell_type": "code",
   "execution_count": null,
   "id": "2609634d",
   "metadata": {},
   "outputs": [],
   "source": []
  }
 ],
 "metadata": {
  "kernelspec": {
   "display_name": "Python 3 (ipykernel)",
   "language": "python",
   "name": "python3"
  },
  "language_info": {
   "codemirror_mode": {
    "name": "ipython",
    "version": 3
   },
   "file_extension": ".py",
   "mimetype": "text/x-python",
   "name": "python",
   "nbconvert_exporter": "python",
   "pygments_lexer": "ipython3",
   "version": "3.9.13"
  }
 },
 "nbformat": 4,
 "nbformat_minor": 5
}
