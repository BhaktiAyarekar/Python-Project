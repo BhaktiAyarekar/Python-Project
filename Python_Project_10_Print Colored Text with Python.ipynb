{
 "cells": [
  {
   "cell_type": "markdown",
   "id": "b9ccbcfa",
   "metadata": {},
   "source": [
    "# Print Colored Text with Python"
   ]
  },
  {
   "cell_type": "markdown",
   "id": "bfa3cc3a",
   "metadata": {},
   "source": [
    " In Python the Colorama module allows us to easily create colored terminal text.I will take use how to print Colored Text with Python by using the Colorama module in Python.Using the Colorama module we can print colored text with Python. We can use it and call its built-in variables which are aliases for the desired ANSI codes. This makes our code more readable and works better with Windows command prompts after calling colorama.init() at the start.The Colorama module offers three main formatting options: Fore, Back, and Style. These allow us to change the foreground or background text color and style. The colors available for the foreground and background are black, red, green, yellow, blue, magenta, cyan, and white."
   ]
  },
  {
   "cell_type": "markdown",
   "id": "af270192",
   "metadata": {},
   "source": [
    "Print Colored Text with Python"
   ]
  },
  {
   "cell_type": "code",
   "execution_count": 1,
   "id": "09acdc54",
   "metadata": {},
   "outputs": [
    {
     "name": "stdout",
     "output_type": "stream",
     "text": [
      "Requirement already satisfied: colorama in c:\\users\\bhakt\\anaconda3\\lib\\site-packages (0.4.5)Note: you may need to restart the kernel to use updated packages.\n",
      "\n"
     ]
    }
   ],
   "source": [
    "pip install colorama"
   ]
  },
  {
   "cell_type": "code",
   "execution_count": 5,
   "id": "2d435d01",
   "metadata": {},
   "outputs": [],
   "source": [
    "import colorama\n",
    "from colorama import Fore, Back, Style ,init\n",
    "colorama.init(autoreset=True)"
   ]
  },
  {
   "cell_type": "code",
   "execution_count": 6,
   "id": "b8987bf5",
   "metadata": {},
   "outputs": [
    {
     "name": "stdout",
     "output_type": "stream",
     "text": [
      "Hi My name is Bhakti Ayarekar!\n"
     ]
    }
   ],
   "source": [
    "print(Fore.BLUE+Back.YELLOW+\"Hi My name is Bhakti Ayarekar!\")"
   ]
  },
  {
   "cell_type": "markdown",
   "id": "78832ebc",
   "metadata": {},
   "source": [
    "Observation: Jupyter Notebook not support to colorama"
   ]
  },
  {
   "cell_type": "markdown",
   "id": "dd3dc4b6",
   "metadata": {},
   "source": [
    "Another Approach"
   ]
  },
  {
   "cell_type": "code",
   "execution_count": 14,
   "id": "51ed464f",
   "metadata": {},
   "outputs": [],
   "source": [
    "from IPython.display import HTML"
   ]
  },
  {
   "cell_type": "code",
   "execution_count": 15,
   "id": "33c6073c",
   "metadata": {},
   "outputs": [],
   "source": [
    "def color_text(text, fore_color='black',back_color='white'):\n",
    "    return f\"<span style='color:{fore_color}; background-color:{back_color};'>{text}</span>\""
   ]
  },
  {
   "cell_type": "code",
   "execution_count": 16,
   "id": "8aeb4393",
   "metadata": {},
   "outputs": [],
   "source": [
    "html_output = color_text(\"Hi My name is Bhakti Ayarekar!\", fore_color='Red', back_color='yellow')"
   ]
  },
  {
   "cell_type": "code",
   "execution_count": 17,
   "id": "da2fcde9",
   "metadata": {},
   "outputs": [
    {
     "data": {
      "text/html": [
       "<span style='color:Red; background-color:yellow;'>Hi My name is Bhakti Ayarekar!</span>"
      ],
      "text/plain": [
       "<IPython.core.display.HTML object>"
      ]
     },
     "execution_count": 17,
     "metadata": {},
     "output_type": "execute_result"
    }
   ],
   "source": [
    "HTML(html_output)"
   ]
  },
  {
   "cell_type": "code",
   "execution_count": null,
   "id": "af33553f",
   "metadata": {},
   "outputs": [],
   "source": []
  }
 ],
 "metadata": {
  "kernelspec": {
   "display_name": "Python 3 (ipykernel)",
   "language": "python",
   "name": "python3"
  },
  "language_info": {
   "codemirror_mode": {
    "name": "ipython",
    "version": 3
   },
   "file_extension": ".py",
   "mimetype": "text/x-python",
   "name": "python",
   "nbconvert_exporter": "python",
   "pygments_lexer": "ipython3",
   "version": "3.9.13"
  }
 },
 "nbformat": 4,
 "nbformat_minor": 5
}
