{
 "cells": [
  {
   "cell_type": "markdown",
   "id": "25382d37",
   "metadata": {},
   "source": [
    "## Acronyms Using Python"
   ]
  },
  {
   "cell_type": "markdown",
   "id": "13c0a37e",
   "metadata": {},
   "source": [
    " An acronym is a short form of a word created by long words or phrases such as NLP for natural language processing. In this article, I will walk you through how to write a program to create acronyms using Python.To create acronyms using Python, you need to write a python program that generates a short form of a word from a given sentence. You can do this by splitting and indexing to get the first word and then combine it. Let’s see how to create an acronym using Python"
   ]
  },
  {
   "cell_type": "code",
   "execution_count": 4,
   "id": "813e91ce",
   "metadata": {},
   "outputs": [
    {
     "name": "stdout",
     "output_type": "stream",
     "text": [
      "Enter a Phrase :Artifical intelligence\n",
      " AI\n"
     ]
    }
   ],
   "source": [
    "user_input=str(input('Enter a Phrase :'))\n",
    "text=user_input.split()\n",
    "\n",
    "acro=\" \"\n",
    "\n",
    "for i in text:\n",
    "    acro=acro+str(i[0].upper())\n",
    "    \n",
    "print(acro)\n",
    "        "
   ]
  },
  {
   "cell_type": "code",
   "execution_count": null,
   "id": "3cbdf050",
   "metadata": {},
   "outputs": [],
   "source": []
  }
 ],
 "metadata": {
  "kernelspec": {
   "display_name": "Python 3 (ipykernel)",
   "language": "python",
   "name": "python3"
  },
  "language_info": {
   "codemirror_mode": {
    "name": "ipython",
    "version": 3
   },
   "file_extension": ".py",
   "mimetype": "text/x-python",
   "name": "python",
   "nbconvert_exporter": "python",
   "pygments_lexer": "ipython3",
   "version": "3.9.13"
  }
 },
 "nbformat": 4,
 "nbformat_minor": 5
}
