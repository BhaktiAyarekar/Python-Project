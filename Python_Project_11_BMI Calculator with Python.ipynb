{
 "cells": [
  {
   "cell_type": "markdown",
   "id": "59703327",
   "metadata": {},
   "source": [
    "# BMI Calculator with Python"
   ]
  },
  {
   "cell_type": "markdown",
   "id": "b9289478",
   "metadata": {},
   "source": [
    "The Body Mass Index or BMI is calculated from weight and height of a Person. BMI is a measure of relative weight based on an individual’s mass and height. Today, Body Mass Index is commonly used to classify people as underweight, overweight, and even with obesity. Also, it is adopted by countries to promote healthy eating."
   ]
  },
  {
   "cell_type": "markdown",
   "id": "11a2d0b8",
   "metadata": {},
   "source": [
    "The body mass index is calculated by dividing an individual’s weight in kilograms by their height in meters, then dividing the answer again by their height. Now let’s see how to create a BMI calculator with Python:"
   ]
  },
  {
   "cell_type": "code",
   "execution_count": 2,
   "id": "7a59e5ab",
   "metadata": {},
   "outputs": [
    {
     "name": "stdout",
     "output_type": "stream",
     "text": [
      "Enter your height in centimeters :154\n",
      "Enter your Weight in Kg :44\n",
      "Your Body Mass Index is: 18.55287569573284\n",
      "you are Healthy\n"
     ]
    }
   ],
   "source": [
    "Height=float(input(\"Enter your height in centimeters :\"))\n",
    "Weight=float(input(\"Enter your Weight in Kg :\"))\n",
    "Height=Height/100\n",
    "BMI=Weight/(Height*Height)\n",
    "print('Your Body Mass Index is:',BMI)\n",
    "if(BMI>0):\n",
    "    if(BMI<=16):\n",
    "        print(\"you are severely underweight\")\n",
    "    elif(BMI<=18.5):\n",
    "        print(\"you are underweight\")\n",
    "    elif(BMI<=25):\n",
    "        print(\"you are Healthy\")\n",
    "    elif(BMI<=30):\n",
    "        print(\"you are overweight\")\n",
    "    else: print(\"you are severely overweight\")\n",
    "else:(\"enter valid details\")"
   ]
  },
  {
   "cell_type": "code",
   "execution_count": null,
   "id": "fb9cde6c",
   "metadata": {},
   "outputs": [],
   "source": []
  }
 ],
 "metadata": {
  "kernelspec": {
   "display_name": "Python 3 (ipykernel)",
   "language": "python",
   "name": "python3"
  },
  "language_info": {
   "codemirror_mode": {
    "name": "ipython",
    "version": 3
   },
   "file_extension": ".py",
   "mimetype": "text/x-python",
   "name": "python",
   "nbconvert_exporter": "python",
   "pygments_lexer": "ipython3",
   "version": "3.9.13"
  }
 },
 "nbformat": 4,
 "nbformat_minor": 5
}
