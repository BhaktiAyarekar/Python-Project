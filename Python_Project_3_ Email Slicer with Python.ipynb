{
 "cells": [
  {
   "cell_type": "markdown",
   "id": "d2e2df51",
   "metadata": {},
   "source": [
    "## Email Slicer"
   ]
  },
  {
   "cell_type": "markdown",
   "id": "7eeb9ab6",
   "metadata": {},
   "source": [
    "To create an email slicer with ython ,our task is to write a program that can retrive the username and domain name of the email.Eg-company@help.com here company=Username & help.com=Domain"
   ]
  },
  {
   "cell_type": "markdown",
   "id": "a82e0921",
   "metadata": {},
   "source": [
    "In this program we divide the email on the basis of '@' as the separator."
   ]
  },
  {
   "cell_type": "code",
   "execution_count": 2,
   "id": "f5531326",
   "metadata": {},
   "outputs": [
    {
     "name": "stdout",
     "output_type": "stream",
     "text": [
      "Enter Your Email: bhaktiayarekar@gmail.com\n",
      "Your user name 'bhaktiayarekar'and your domain is'gmail.com'\n"
     ]
    }
   ],
   "source": [
    "email= input('Enter Your Email: ').strip()\n",
    "username= email[:email.index('@')]\n",
    "domainname= email[email.index('@')+1:]\n",
    "print(f\"Your user name '{username}'and your domain is'{domainname}'\")"
   ]
  },
  {
   "cell_type": "markdown",
   "id": "822abad4",
   "metadata": {},
   "source": [
    "The .strip() method in Python is a string method that is used to remove leading and trailing whitespace (spaces, tabs, or newlines) from a string. It returns a new string with the whitespace removed."
   ]
  },
  {
   "cell_type": "markdown",
   "id": "9402d1c4",
   "metadata": {},
   "source": [
    "### Another Method"
   ]
  },
  {
   "cell_type": "code",
   "execution_count": 4,
   "id": "f56ca622",
   "metadata": {},
   "outputs": [
    {
     "name": "stdout",
     "output_type": "stream",
     "text": [
      "Enter Your Email: bhaktiayarekar@gmail.com\n",
      "Your user name 'bhaktiayarekar' and your domain is 'gmail.com'\n"
     ]
    }
   ],
   "source": [
    "email = input('Enter Your Email: ').strip()\n",
    "username, domainname = email.split('@')\n",
    "print(f\"Your user name '{username}' and your domain is '{domainname}'\")"
   ]
  },
  {
   "cell_type": "markdown",
   "id": "2510ff73",
   "metadata": {},
   "source": [
    "### Another Method"
   ]
  },
  {
   "cell_type": "code",
   "execution_count": 5,
   "id": "92b4d095",
   "metadata": {},
   "outputs": [
    {
     "name": "stdout",
     "output_type": "stream",
     "text": [
      "Enter Your Email: bhaktiayarekar@gmail.com\n",
      "Your user name 'bhaktiayarekar' and your domain is 'gmail.com'\n"
     ]
    }
   ],
   "source": [
    "email = input('Enter Your Email: ').strip()\n",
    "position = email.find('@')\n",
    "\n",
    "if position != -1:\n",
    "    username = email[:position]\n",
    "    domainname = email[position + 1:]\n",
    "    print(f\"Your user name '{username}' and your domain is '{domainname}'\")\n",
    "else:\n",
    "    print(\"Invalid email format: '@' not found\")\n"
   ]
  },
  {
   "cell_type": "markdown",
   "id": "f2303c68",
   "metadata": {},
   "source": [
    "In this problem statament we use 3 methods-1)using slicing & index 2)using split method 3)using find method"
   ]
  },
  {
   "cell_type": "code",
   "execution_count": null,
   "id": "525393b5",
   "metadata": {},
   "outputs": [],
   "source": []
  }
 ],
 "metadata": {
  "kernelspec": {
   "display_name": "Python 3 (ipykernel)",
   "language": "python",
   "name": "python3"
  },
  "language_info": {
   "codemirror_mode": {
    "name": "ipython",
    "version": 3
   },
   "file_extension": ".py",
   "mimetype": "text/x-python",
   "name": "python",
   "nbconvert_exporter": "python",
   "pygments_lexer": "ipython3",
   "version": "3.11.3"
  }
 },
 "nbformat": 4,
 "nbformat_minor": 5
}
