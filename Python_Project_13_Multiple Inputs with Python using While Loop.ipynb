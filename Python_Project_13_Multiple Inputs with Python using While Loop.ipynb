{
 "cells": [
  {
   "cell_type": "markdown",
   "id": "8711a1b8",
   "metadata": {},
   "source": [
    "# Multiple Inputs with Python using While Loop"
   ]
  },
  {
   "cell_type": "markdown",
   "id": "7c59f1cb",
   "metadata": {},
   "source": [
    "Problem Statement for Taking Multiple User Inputs with Python\n",
    "Suppose you are prompted to write a Python program that interacts with a user in a console window. You may be accepting input to send to a database, or reading numbers to use in a calculation.\n",
    "\n",
    "Whatever the purpose, you should code a loop that reads one or multiple user inputs from a user typing on a keyboard and prints a result for each. In other words, you have to write a classic print loop program."
   ]
  },
  {
   "cell_type": "markdown",
   "id": "ff7aef99",
   "metadata": {},
   "source": [
    "Now let’s see how to solve the above problem statement by taking multiple inputs with Python using a while loop. In Python, standard code for such an interactive loop might look like this:"
   ]
  },
  {
   "cell_type": "code",
   "execution_count": 6,
   "id": "979dd89c",
   "metadata": {},
   "outputs": [
    {
     "name": "stdout",
     "output_type": "stream",
     "text": [
      "Enter Text: Hey\n",
      "Hey\n",
      "Enter Text: Hello\n",
      "Hello\n",
      "Enter Text: Bhakti\n",
      "Bhakti\n",
      "Enter Text: Ayarekar\n",
      "Ayarekar\n",
      "Enter Text: stop\n"
     ]
    }
   ],
   "source": [
    "while True:\n",
    "    replay = input('Enter Text: ')\n",
    "    if replay == \"stop\" :break\n",
    "    print(replay)    \n",
    "    "
   ]
  },
  {
   "cell_type": "markdown",
   "id": "fef177ff",
   "metadata": {},
   "source": [
    "Finally, the Python break statement is used to exit from the while loop statement immediately. It simply jumps out of the while loop statement and the program continues after the loop. Without this exit statement, the while would loop forever, because its test is still true."
   ]
  },
  {
   "cell_type": "code",
   "execution_count": null,
   "id": "c290cd6a",
   "metadata": {},
   "outputs": [],
   "source": []
  }
 ],
 "metadata": {
  "kernelspec": {
   "display_name": "Python 3 (ipykernel)",
   "language": "python",
   "name": "python3"
  },
  "language_info": {
   "codemirror_mode": {
    "name": "ipython",
    "version": 3
   },
   "file_extension": ".py",
   "mimetype": "text/x-python",
   "name": "python",
   "nbconvert_exporter": "python",
   "pygments_lexer": "ipython3",
   "version": "3.9.13"
  }
 },
 "nbformat": 4,
 "nbformat_minor": 5
}
